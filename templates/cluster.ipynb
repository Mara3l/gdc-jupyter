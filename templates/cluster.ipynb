{
 "cells": [
  {
   "cell_type": "code",
   "execution_count": null,
   "metadata": {},
   "outputs": [],
   "source": [
    "from setup import *\n",
    "\n",
    "env = InsightEnvironment(\"68cdce03-9e6c-466b-9205-35a9d45fef61\")\n",
    "\n",
    "env.workspace_id =\"gdc_demo_11354ed4-f8f4-4286-9df7-50371b564d28\""
   ]
  }
 ],
 "metadata": {
  "language_info": {
   "name": "python"
  },
  "orig_nbformat": 4
 },
 "nbformat": 4,
 "nbformat_minor": 2
}
