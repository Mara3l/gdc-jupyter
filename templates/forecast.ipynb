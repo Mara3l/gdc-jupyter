{
 "cells": [
  {
   "cell_type": "code",
   "execution_count": 1,
   "id": "dc630f7e",
   "metadata": {},
   "outputs": [],
   "source": [
    "from insight_analyzer import PredictionAnalyzer\n",
    "\n",
    "# notebook input from an insight\n",
    "sample = PredictionAnalyzer(insight_id=\"657f0cc8-fa05-46bb-9808-8cf4f065ce3d\")"
   ]
  },
  {
   "cell_type": "code",
   "execution_count": null,
   "id": "b9fc58a5",
   "metadata": {
    "pycharm": {
     "is_executing": true
    }
   },
   "outputs": [],
   "source": [
    "result = sample.predict(steps=80, conf_interval=80)"
   ]
  },
  {
   "cell_type": "code",
   "execution_count": null,
   "outputs": [],
   "source": [
    "print(result)"
   ],
   "metadata": {
    "collapsed": false,
    "pycharm": {
     "is_executing": true
    }
   }
  },
  {
   "cell_type": "code",
   "execution_count": null,
   "outputs": [],
   "source": [],
   "metadata": {
    "collapsed": false,
    "pycharm": {
     "is_executing": true
    }
   }
  }
 ],
 "metadata": {
  "kernelspec": {
   "name": "vymysli",
   "language": "python",
   "display_name": "vymysli"
  },
  "language_info": {
   "codemirror_mode": {
    "name": "ipython",
    "version": 3
   },
   "file_extension": ".py",
   "mimetype": "text/x-python",
   "name": "python",
   "nbconvert_exporter": "python",
   "pygments_lexer": "ipython3",
   "version": "3.11.5"
  }
 },
 "nbformat": 4,
 "nbformat_minor": 5
}
