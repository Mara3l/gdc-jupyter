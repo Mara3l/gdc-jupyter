{
 "cells": [
  {
   "cell_type": "code",
   "execution_count": null,
   "id": "initial_id",
   "metadata": {
    "ExecuteTime": {
     "end_time": "2023-08-24T10:42:28.625005Z",
     "start_time": "2023-08-24T10:42:27.980585Z"
    },
    "collapsed": true
   },
   "outputs": [],
   "source": [
    "from setup import *\n",
    "\n",
    "# notebook input from an insight\n",
    "sample = InsightEnvironment(insight_id=\"657f0cc8-fa05-46bb-9808-8cf4f065ce3d\")\n",
    "full_data = InsightEnvironment(insight_id=\"c037508e-6e60-4d22-86a3-1e7874e2954b\")\n",
    "\n",
    "show_train_data(full_data)\n"
   ]
  },
  {
   "cell_type": "code",
   "execution_count": null,
   "id": "dc630f7e",
   "metadata": {},
   "outputs": [],
   "source": [
    "predict(sample)"
   ]
  }
 ],
 "metadata": {
  "kernelspec": {
   "display_name": "Python 3",
   "language": "python",
   "name": "python3"
  },
  "language_info": {
   "codemirror_mode": {
    "name": "ipython",
    "version": 3
   },
   "file_extension": ".py",
   "mimetype": "text/x-python",
   "name": "python",
   "nbconvert_exporter": "python",
   "pygments_lexer": "ipython3",
   "version": "3.11.5"
  }
 },
 "nbformat": 4,
 "nbformat_minor": 5
}
